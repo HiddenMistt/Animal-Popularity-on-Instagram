{
  "nbformat": 4,
  "nbformat_minor": 0,
  "metadata": {
    "colab": {
      "name": "Step 2 : Creating a Classification DL Model.ipynb",
      "provenance": [],
      "collapsed_sections": [],
      "mount_file_id": "1OCXJFddfTVgni6QtslhfCNLxuhmVh5Ty",
      "authorship_tag": "ABX9TyPTTo4WW0ZmWWA+Shgmq+E3"
    },
    "kernelspec": {
      "name": "python3",
      "display_name": "Python 3"
    },
    "language_info": {
      "name": "python"
    },
    "accelerator": "GPU"
  },
  "cells": [
    {
      "cell_type": "code",
      "metadata": {
        "id": "pGM7tSDp0eY4"
      },
      "source": [
        "import numpy as np\n",
        "import pandas as pd\n",
        "import os"
      ],
      "execution_count": null,
      "outputs": []
    },
    {
      "cell_type": "code",
      "metadata": {
        "id": "cS8hffmx1Z8W"
      },
      "source": [
        "import matplotlib.pyplot as plt\n",
        "import tensorflow as tf\n",
        "\n",
        "from tensorflow.keras.utils import to_categorical\n",
        "from tensorflow.keras.preprocessing.image import load_img, img_to_array\n",
        "from tensorflow.python.keras.preprocessing.image import ImageDataGenerator\n",
        "\n",
        "from sklearn.metrics import classification_report, log_loss, accuracy_score\n",
        "from sklearn.model_selection import train_test_split"
      ],
      "execution_count": null,
      "outputs": []
    },
    {
      "cell_type": "code",
      "metadata": {
        "colab": {
          "base_uri": "https://localhost:8080/"
        },
        "id": "YlRGm8_g2ag7",
        "outputId": "e9934d98-da49-42c9-bfa0-58bc5b272cc8"
      },
      "source": [
        "from google.colab import drive\n",
        "drive.mount('/content/drive')"
      ],
      "execution_count": null,
      "outputs": [
        {
          "output_type": "stream",
          "text": [
            "Drive already mounted at /content/drive; to attempt to forcibly remount, call drive.mount(\"/content/drive\", force_remount=True).\n"
          ],
          "name": "stdout"
        }
      ]
    },
    {
      "cell_type": "code",
      "metadata": {
        "colab": {
          "base_uri": "https://localhost:8080/"
        },
        "id": "2JvIBj101b-D",
        "outputId": "c7fd6333-fcf8-47ed-e8a6-95a9447be01e"
      },
      "source": [
        "File=[]\n",
        "for dirname, _, filenames in os.walk(\"//content/drive/MyDrive/Colab Notebooks/Animal Popularity on Instagram/Animals_10_Dataset\"):\n",
        "    for filename in filenames:\n",
        "        File+=[os.path.join(dirname, filename)]\n",
        "        \n",
        "File2=[]\n",
        "for file in File:\n",
        "    if file[-5:]=='.jpeg':\n",
        "        File2+=[file]  \n",
        "\n",
        "print(File[:10])\n",
        "print(File2[:10])"
      ],
      "execution_count": null,
      "outputs": [
        {
          "output_type": "stream",
          "text": [
            "['//content/drive/MyDrive/Colab Notebooks/Animal Popularity on Instagram/Animals_10_Dataset/butterfly/OIP-uBrP5dQ-QdWtdphWQUDw0gHaHa.jpeg', '//content/drive/MyDrive/Colab Notebooks/Animal Popularity on Instagram/Animals_10_Dataset/butterfly/OIP-x3ds-GLfBdrjkAMkSfQSDwHaE9.jpeg', '//content/drive/MyDrive/Colab Notebooks/Animal Popularity on Instagram/Animals_10_Dataset/butterfly/OIP-XlrZTvHwH0G9thYYYHPA9gHaFJ.jpeg', '//content/drive/MyDrive/Colab Notebooks/Animal Popularity on Instagram/Animals_10_Dataset/butterfly/OIP-m_QLFvdrUg6OlAtigj7vCgHaE7.jpeg', '//content/drive/MyDrive/Colab Notebooks/Animal Popularity on Instagram/Animals_10_Dataset/butterfly/OIP-p42jbZosQ-lsEbCR5YncIAHaEo.jpeg', '//content/drive/MyDrive/Colab Notebooks/Animal Popularity on Instagram/Animals_10_Dataset/butterfly/OIP-_mIa90VLaHMZjCJqfJKpTgHaE7.jpeg', '//content/drive/MyDrive/Colab Notebooks/Animal Popularity on Instagram/Animals_10_Dataset/butterfly/OIP-poWbJLwAJ2I0PscHcMUAsAHaHa.jpeg', '//content/drive/MyDrive/Colab Notebooks/Animal Popularity on Instagram/Animals_10_Dataset/butterfly/OIP-pbWqGsPnLTIX2CFZxaIRTQHaE7.jpeg', '//content/drive/MyDrive/Colab Notebooks/Animal Popularity on Instagram/Animals_10_Dataset/butterfly/OIP-STUjBDJDLzsX-Fl3g1NsLAAAAA.jpeg', '//content/drive/MyDrive/Colab Notebooks/Animal Popularity on Instagram/Animals_10_Dataset/butterfly/OIP-fSi910TpmwDtlQPoMvr5iwHaFj.jpeg']\n",
            "['//content/drive/MyDrive/Colab Notebooks/Animal Popularity on Instagram/Animals_10_Dataset/butterfly/OIP-uBrP5dQ-QdWtdphWQUDw0gHaHa.jpeg', '//content/drive/MyDrive/Colab Notebooks/Animal Popularity on Instagram/Animals_10_Dataset/butterfly/OIP-x3ds-GLfBdrjkAMkSfQSDwHaE9.jpeg', '//content/drive/MyDrive/Colab Notebooks/Animal Popularity on Instagram/Animals_10_Dataset/butterfly/OIP-XlrZTvHwH0G9thYYYHPA9gHaFJ.jpeg', '//content/drive/MyDrive/Colab Notebooks/Animal Popularity on Instagram/Animals_10_Dataset/butterfly/OIP-m_QLFvdrUg6OlAtigj7vCgHaE7.jpeg', '//content/drive/MyDrive/Colab Notebooks/Animal Popularity on Instagram/Animals_10_Dataset/butterfly/OIP-p42jbZosQ-lsEbCR5YncIAHaEo.jpeg', '//content/drive/MyDrive/Colab Notebooks/Animal Popularity on Instagram/Animals_10_Dataset/butterfly/OIP-_mIa90VLaHMZjCJqfJKpTgHaE7.jpeg', '//content/drive/MyDrive/Colab Notebooks/Animal Popularity on Instagram/Animals_10_Dataset/butterfly/OIP-poWbJLwAJ2I0PscHcMUAsAHaHa.jpeg', '//content/drive/MyDrive/Colab Notebooks/Animal Popularity on Instagram/Animals_10_Dataset/butterfly/OIP-pbWqGsPnLTIX2CFZxaIRTQHaE7.jpeg', '//content/drive/MyDrive/Colab Notebooks/Animal Popularity on Instagram/Animals_10_Dataset/butterfly/OIP-STUjBDJDLzsX-Fl3g1NsLAAAAA.jpeg', '//content/drive/MyDrive/Colab Notebooks/Animal Popularity on Instagram/Animals_10_Dataset/butterfly/OIP-fSi910TpmwDtlQPoMvr5iwHaFj.jpeg']\n"
          ],
          "name": "stdout"
        }
      ]
    },
    {
      "cell_type": "code",
      "metadata": {
        "colab": {
          "base_uri": "https://localhost:8080/"
        },
        "id": "rXZ94_pO1ePj",
        "outputId": "aab7e8be-5fcb-4b2e-9afc-67ce2369d278"
      },
      "source": [
        "Name0=[]\n",
        "for dirname, _, filenames in os.walk(\"//content/drive/MyDrive/Colab Notebooks/Animal Popularity on Instagram/Animals_10_Dataset\"):\n",
        "    Name0+=[dirname]\n",
        "\n",
        "Name1=[]\n",
        "for item in Name0:\n",
        "    Name1+=[item[27:]]\n",
        "\n",
        "Name2=[]\n",
        "for item in Name1:\n",
        "    if (item!=''):\n",
        "        Name2+=[item]\n",
        "                \n",
        "Name3=sorted(Name2)\n",
        "Name3 = Name3[1:]\n",
        "print(Name3) "
      ],
      "execution_count": null,
      "outputs": [
        {
          "output_type": "stream",
          "text": [
            "['ab Notebooks/Animal Popularity on Instagram/Animals_10_Dataset/butterfly', 'ab Notebooks/Animal Popularity on Instagram/Animals_10_Dataset/cat', 'ab Notebooks/Animal Popularity on Instagram/Animals_10_Dataset/chicken', 'ab Notebooks/Animal Popularity on Instagram/Animals_10_Dataset/cow', 'ab Notebooks/Animal Popularity on Instagram/Animals_10_Dataset/dog', 'ab Notebooks/Animal Popularity on Instagram/Animals_10_Dataset/elephant', 'ab Notebooks/Animal Popularity on Instagram/Animals_10_Dataset/horse', 'ab Notebooks/Animal Popularity on Instagram/Animals_10_Dataset/sheep', 'ab Notebooks/Animal Popularity on Instagram/Animals_10_Dataset/spider', 'ab Notebooks/Animal Popularity on Instagram/Animals_10_Dataset/squirrel']\n"
          ],
          "name": "stdout"
        }
      ]
    },
    {
      "cell_type": "code",
      "metadata": {
        "id": "pAi5KmRw1qme"
      },
      "source": [
        "dir0=\"/content/drive/MyDrive/Colab Notebooks/Animal Popularity on Instagram/Animals_10_Dataset/butterfly\"\n",
        "dir1='/content/drive/MyDrive/Colab Notebooks/Animal Popularity on Instagram/Animals_10_Dataset/cat'\n",
        "dir2='/content/drive/MyDrive/Colab Notebooks/Animal Popularity on Instagram/Animals_10_Dataset/chicken'\n",
        "dir3='/content/drive/MyDrive/Colab Notebooks/Animal Popularity on Instagram/Animals_10_Dataset/cow'\n",
        "dir4='/content/drive/MyDrive/Colab Notebooks/Animal Popularity on Instagram/Animals_10_Dataset/dog'\n",
        "dir5='/content/drive/MyDrive/Colab Notebooks/Animal Popularity on Instagram/Animals_10_Dataset/elephant'\n",
        "dir6='/content/drive/MyDrive/Colab Notebooks/Animal Popularity on Instagram/Animals_10_Dataset/horse'\n",
        "dir7='/content/drive/MyDrive/Colab Notebooks/Animal Popularity on Instagram/Animals_10_Dataset/sheep'\n",
        "dir8='/content/drive/MyDrive/Colab Notebooks/Animal Popularity on Instagram/Animals_10_Dataset/spider'\n",
        "dir9='/content/drive/MyDrive/Colab Notebooks/Animal Popularity on Instagram/Animals_10_Dataset/squirrel'"
      ],
      "execution_count": null,
      "outputs": []
    },
    {
      "cell_type": "code",
      "metadata": {
        "colab": {
          "base_uri": "https://localhost:8080/"
        },
        "id": "31Bwx1nr14M3",
        "outputId": "2757f41a-c7fa-487e-8a5a-957844eade61"
      },
      "source": [
        "Dirs=[ dir0,dir1,dir2,dir3,dir4,dir5,dir6,dir7,dir8,dir9 ]\n",
        "mapping={ Name3[0]:0,Name3[1]:1,Name3[2]:2,Name3[3]:3,Name3[4]:4,Name3[5]:5,Name3[6]:6,Name3[7]:7,Name3[8]:8,Name3[9]:9 }\n",
        "\n",
        "mapping"
      ],
      "execution_count": null,
      "outputs": [
        {
          "output_type": "execute_result",
          "data": {
            "text/plain": [
              "{'ab Notebooks/Animal Popularity on Instagram/Animals_10_Dataset/butterfly': 0,\n",
              " 'ab Notebooks/Animal Popularity on Instagram/Animals_10_Dataset/cat': 1,\n",
              " 'ab Notebooks/Animal Popularity on Instagram/Animals_10_Dataset/chicken': 2,\n",
              " 'ab Notebooks/Animal Popularity on Instagram/Animals_10_Dataset/cow': 3,\n",
              " 'ab Notebooks/Animal Popularity on Instagram/Animals_10_Dataset/dog': 4,\n",
              " 'ab Notebooks/Animal Popularity on Instagram/Animals_10_Dataset/elephant': 5,\n",
              " 'ab Notebooks/Animal Popularity on Instagram/Animals_10_Dataset/horse': 6,\n",
              " 'ab Notebooks/Animal Popularity on Instagram/Animals_10_Dataset/sheep': 7,\n",
              " 'ab Notebooks/Animal Popularity on Instagram/Animals_10_Dataset/spider': 8,\n",
              " 'ab Notebooks/Animal Popularity on Instagram/Animals_10_Dataset/squirrel': 9}"
            ]
          },
          "metadata": {
            "tags": []
          },
          "execution_count": 23
        }
      ]
    },
    {
      "cell_type": "code",
      "metadata": {
        "id": "_qVCrW1W16pG"
      },
      "source": [
        "dataset=[]\n",
        "testset=[]\n",
        "count=0\n",
        "for dirs in Dirs:\n",
        "    i=0\n",
        "    for file in File2:\n",
        "        if dirs in file:\n",
        "            image=load_img(file, grayscale=False, color_mode='rgb', target_size=(100,100))\n",
        "            image=img_to_array(image)\n",
        "            image=image/255.0\n",
        "            if i<1000:\n",
        "                dataset.append([image,count])\n",
        "                i+=1\n",
        "            else:\n",
        "                testset.append([image,count])\n",
        "    count=count+1"
      ],
      "execution_count": null,
      "outputs": []
    },
    {
      "cell_type": "code",
      "metadata": {
        "id": "8bAKDWtj5ARD"
      },
      "source": [
        "data0,labels0=zip(*dataset)\n",
        "test0,labelsTest0=zip(*testset)"
      ],
      "execution_count": null,
      "outputs": []
    },
    {
      "cell_type": "code",
      "metadata": {
        "id": "dxsvNUAV5YX0",
        "colab": {
          "base_uri": "https://localhost:8080/"
        },
        "outputId": "a9efec5e-4ad4-4265-8a55-8f660c8a326c"
      },
      "source": [
        "labels1=to_categorical(labels0)\n",
        "labels=np.array(labels1)\n",
        "data=np.array(data0)\n",
        "print(\"Data Shape:{}\\nDataLabels shape: {}\".format(data.shape,labels.shape))"
      ],
      "execution_count": null,
      "outputs": [
        {
          "output_type": "stream",
          "text": [
            "Data Shape:(10000, 100, 100, 3)\n",
            "DataLabels shape: (10000, 10)\n"
          ],
          "name": "stdout"
        }
      ]
    },
    {
      "cell_type": "code",
      "metadata": {
        "id": "h1tzvTca5bsz",
        "colab": {
          "base_uri": "https://localhost:8080/"
        },
        "outputId": "911e900e-5ee0-4d17-822d-88f5486a10a6"
      },
      "source": [
        "trainx,testx,trainy,testy=train_test_split(data,labels,test_size=0.2,random_state=44)\n",
        "\n",
        "print(trainx.shape)\n",
        "print(testx.shape)\n",
        "print(trainy.shape)\n",
        "print(testy.shape)"
      ],
      "execution_count": null,
      "outputs": [
        {
          "output_type": "stream",
          "text": [
            "(8000, 100, 100, 3)\n",
            "(2000, 100, 100, 3)\n",
            "(8000, 10)\n",
            "(2000, 10)\n"
          ],
          "name": "stdout"
        }
      ]
    },
    {
      "cell_type": "code",
      "metadata": {
        "id": "ZtHmJtUQYh7O"
      },
      "source": [
        "datagen = ImageDataGenerator(horizontal_flip=True,\n",
        "                             vertical_flip=True,\n",
        "                             rotation_range=20,\n",
        "                             zoom_range=0.2,\n",
        "                            width_shift_range=0.2,\n",
        "                             height_shift_range=0.2,\n",
        "                             shear_range=0.1,\n",
        "                             fill_mode=\"nearest\")"
      ],
      "execution_count": null,
      "outputs": []
    },
    {
      "cell_type": "code",
      "metadata": {
        "colab": {
          "base_uri": "https://localhost:8080/"
        },
        "id": "SGALnvLCYspS",
        "outputId": "6ca459c0-30e4-4b3a-b8f7-b2c9b1409d7c"
      },
      "source": [
        "pretrained_model = tf.keras.applications.MobileNetV2(input_shape=(100,100,3),\n",
        "                                                     include_top=False,\n",
        "                                                     weights='imagenet',\n",
        "                                                     pooling='avg')\n",
        "pretrained_model.trainable = False"
      ],
      "execution_count": null,
      "outputs": [
        {
          "output_type": "stream",
          "text": [
            "WARNING:tensorflow:`input_shape` is undefined or non-square, or `rows` is not in [96, 128, 160, 192, 224]. Weights for input shape (224, 224) will be loaded as the default.\n",
            "Downloading data from https://storage.googleapis.com/tensorflow/keras-applications/mobilenet_v2/mobilenet_v2_weights_tf_dim_ordering_tf_kernels_1.0_224_no_top.h5\n",
            "9412608/9406464 [==============================] - 0s 0us/step\n"
          ],
          "name": "stdout"
        }
      ]
    },
    {
      "cell_type": "code",
      "metadata": {
        "id": "zBW9hYPcY0f_"
      },
      "source": [
        "inputs = pretrained_model.input\n",
        "\n",
        "x = tf.keras.layers.Dense(128, activation='relu')(pretrained_model.output)\n",
        "\n",
        "outputs = tf.keras.layers.Dense(10, activation='softmax')(x)\n",
        "model = tf.keras.Model(inputs=inputs, outputs=outputs)"
      ],
      "execution_count": null,
      "outputs": []
    },
    {
      "cell_type": "code",
      "metadata": {
        "id": "e5RVAUOeY_mb"
      },
      "source": [
        "model.compile(optimizer='adam',loss='categorical_crossentropy',metrics=['accuracy'])"
      ],
      "execution_count": null,
      "outputs": []
    },
    {
      "cell_type": "code",
      "metadata": {
        "colab": {
          "base_uri": "https://localhost:8080/"
        },
        "id": "37PuGwcyZCMN",
        "outputId": "6ba33e3f-ace5-477f-ea27-e22f4ebb5d54"
      },
      "source": [
        "his=model.fit(datagen.flow(trainx,trainy,batch_size=32),\n",
        "              validation_data=(testx,testy),\n",
        "              epochs=30)"
      ],
      "execution_count": null,
      "outputs": [
        {
          "output_type": "stream",
          "text": [
            "Epoch 1/30\n",
            "250/250 [==============================] - 57s 90ms/step - loss: 1.5968 - accuracy: 0.4813 - val_loss: 0.6941 - val_accuracy: 0.7665\n",
            "Epoch 2/30\n",
            "250/250 [==============================] - 21s 86ms/step - loss: 0.9956 - accuracy: 0.6558 - val_loss: 0.6871 - val_accuracy: 0.7735\n",
            "Epoch 3/30\n",
            "250/250 [==============================] - 21s 84ms/step - loss: 0.9057 - accuracy: 0.6903 - val_loss: 0.7247 - val_accuracy: 0.7625\n",
            "Epoch 4/30\n",
            "250/250 [==============================] - 21s 84ms/step - loss: 0.8612 - accuracy: 0.7086 - val_loss: 0.6441 - val_accuracy: 0.7805\n",
            "Epoch 5/30\n",
            "250/250 [==============================] - 21s 83ms/step - loss: 0.8476 - accuracy: 0.7102 - val_loss: 0.6304 - val_accuracy: 0.7910\n",
            "Epoch 6/30\n",
            "250/250 [==============================] - 21s 84ms/step - loss: 0.8158 - accuracy: 0.7187 - val_loss: 0.5949 - val_accuracy: 0.8000\n",
            "Epoch 7/30\n",
            "250/250 [==============================] - 21s 83ms/step - loss: 0.8218 - accuracy: 0.7118 - val_loss: 0.6458 - val_accuracy: 0.7835\n",
            "Epoch 8/30\n",
            "250/250 [==============================] - 21s 84ms/step - loss: 0.7921 - accuracy: 0.7298 - val_loss: 0.6196 - val_accuracy: 0.7915\n",
            "Epoch 9/30\n",
            "250/250 [==============================] - 21s 84ms/step - loss: 0.7732 - accuracy: 0.7356 - val_loss: 0.5834 - val_accuracy: 0.8030\n",
            "Epoch 10/30\n",
            "250/250 [==============================] - 21s 84ms/step - loss: 0.7536 - accuracy: 0.7423 - val_loss: 0.6291 - val_accuracy: 0.7795\n",
            "Epoch 11/30\n",
            "250/250 [==============================] - 21s 83ms/step - loss: 0.7369 - accuracy: 0.7458 - val_loss: 0.5851 - val_accuracy: 0.8030\n",
            "Epoch 12/30\n",
            "250/250 [==============================] - 21s 83ms/step - loss: 0.7087 - accuracy: 0.7507 - val_loss: 0.5873 - val_accuracy: 0.8010\n",
            "Epoch 13/30\n",
            "250/250 [==============================] - 21s 84ms/step - loss: 0.7127 - accuracy: 0.7562 - val_loss: 0.5735 - val_accuracy: 0.8110\n",
            "Epoch 14/30\n",
            "250/250 [==============================] - 21s 84ms/step - loss: 0.7381 - accuracy: 0.7391 - val_loss: 0.5806 - val_accuracy: 0.8015\n",
            "Epoch 15/30\n",
            "250/250 [==============================] - 21s 84ms/step - loss: 0.7081 - accuracy: 0.7571 - val_loss: 0.5698 - val_accuracy: 0.8080\n",
            "Epoch 16/30\n",
            "250/250 [==============================] - 21s 83ms/step - loss: 0.6987 - accuracy: 0.7563 - val_loss: 0.5889 - val_accuracy: 0.8005\n",
            "Epoch 17/30\n",
            "250/250 [==============================] - 21s 84ms/step - loss: 0.6987 - accuracy: 0.7576 - val_loss: 0.5718 - val_accuracy: 0.8110\n",
            "Epoch 18/30\n",
            "250/250 [==============================] - 21s 84ms/step - loss: 0.7346 - accuracy: 0.7510 - val_loss: 0.5778 - val_accuracy: 0.8040\n",
            "Epoch 19/30\n",
            "250/250 [==============================] - 21s 84ms/step - loss: 0.6886 - accuracy: 0.7634 - val_loss: 0.6571 - val_accuracy: 0.7920\n",
            "Epoch 20/30\n",
            "250/250 [==============================] - 21s 84ms/step - loss: 0.6529 - accuracy: 0.7676 - val_loss: 0.5821 - val_accuracy: 0.8050\n",
            "Epoch 21/30\n",
            "250/250 [==============================] - 21s 84ms/step - loss: 0.6717 - accuracy: 0.7586 - val_loss: 0.6397 - val_accuracy: 0.7915\n",
            "Epoch 22/30\n",
            "250/250 [==============================] - 21s 83ms/step - loss: 0.6773 - accuracy: 0.7632 - val_loss: 0.5870 - val_accuracy: 0.8065\n",
            "Epoch 23/30\n",
            "250/250 [==============================] - 21s 84ms/step - loss: 0.6735 - accuracy: 0.7694 - val_loss: 0.6582 - val_accuracy: 0.7915\n",
            "Epoch 24/30\n",
            "250/250 [==============================] - 21s 84ms/step - loss: 0.6744 - accuracy: 0.7667 - val_loss: 0.6014 - val_accuracy: 0.8050\n",
            "Epoch 25/30\n",
            "250/250 [==============================] - 21s 85ms/step - loss: 0.6475 - accuracy: 0.7786 - val_loss: 0.5759 - val_accuracy: 0.8125\n",
            "Epoch 26/30\n",
            "250/250 [==============================] - 21s 84ms/step - loss: 0.6572 - accuracy: 0.7660 - val_loss: 0.5601 - val_accuracy: 0.8160\n",
            "Epoch 27/30\n",
            "250/250 [==============================] - 21s 84ms/step - loss: 0.6488 - accuracy: 0.7718 - val_loss: 0.6068 - val_accuracy: 0.8065\n",
            "Epoch 28/30\n",
            "250/250 [==============================] - 21s 83ms/step - loss: 0.6574 - accuracy: 0.7671 - val_loss: 0.5984 - val_accuracy: 0.8040\n",
            "Epoch 29/30\n",
            "250/250 [==============================] - 21s 86ms/step - loss: 0.6397 - accuracy: 0.7782 - val_loss: 0.6047 - val_accuracy: 0.8045\n",
            "Epoch 30/30\n",
            "250/250 [==============================] - 21s 86ms/step - loss: 0.6361 - accuracy: 0.7797 - val_loss: 0.6278 - val_accuracy: 0.8025\n"
          ],
          "name": "stdout"
        }
      ]
    },
    {
      "cell_type": "code",
      "metadata": {
        "colab": {
          "base_uri": "https://localhost:8080/"
        },
        "id": "vITguF6fZKjI",
        "outputId": "4087614c-d80a-42cb-956a-5220349e06d0"
      },
      "source": [
        "y_pred=model.predict(testx)\n",
        "pred=np.argmax(y_pred,axis=1)\n",
        "ground = np.argmax(testy,axis=1)\n",
        "\n",
        "print(classification_report(ground,pred))"
      ],
      "execution_count": null,
      "outputs": [
        {
          "output_type": "stream",
          "text": [
            "              precision    recall  f1-score   support\n",
            "\n",
            "           0       0.87      0.94      0.90       188\n",
            "           1       0.87      0.75      0.81       200\n",
            "           2       0.82      0.92      0.86       207\n",
            "           3       0.54      0.87      0.67       174\n",
            "           4       0.84      0.70      0.77       210\n",
            "           5       0.87      0.85      0.86       202\n",
            "           6       0.78      0.71      0.74       220\n",
            "           7       0.82      0.77      0.80       221\n",
            "           8       0.93      0.77      0.84       180\n",
            "           9       0.84      0.77      0.81       198\n",
            "\n",
            "    accuracy                           0.80      2000\n",
            "   macro avg       0.82      0.81      0.80      2000\n",
            "weighted avg       0.82      0.80      0.81      2000\n",
            "\n"
          ],
          "name": "stdout"
        }
      ]
    },
    {
      "cell_type": "code",
      "metadata": {
        "colab": {
          "base_uri": "https://localhost:8080/",
          "height": 299
        },
        "id": "TrzdY3iLZTOK",
        "outputId": "a15c135a-e216-46bb-f52d-83d7effdaf1d"
      },
      "source": [
        "get_acc = his.history['accuracy']\n",
        "value_acc = his.history['val_accuracy']\n",
        "get_loss = his.history['loss']\n",
        "validation_loss = his.history['val_loss']\n",
        "\n",
        "epochs = range(len(get_acc))\n",
        "plt.plot(epochs, get_acc, 'r', label='Accuracy of Training data')\n",
        "plt.plot(epochs, value_acc, 'b', label='Accuracy of Validation data')\n",
        "plt.title('Training vs validation accuracy')\n",
        "plt.legend(loc=0)\n",
        "plt.figure()\n",
        "plt.show()"
      ],
      "execution_count": null,
      "outputs": [
        {
          "output_type": "display_data",
          "data": {
            "image/png": "[encoded data removed]",
            "text/plain": [
              "<Figure size 432x288 with 1 Axes>"
            ]
          },
          "metadata": {
            "tags": [],
            "needs_background": "light"
          }
        },
        {
          "output_type": "display_data",
          "data": {
            "text/plain": [
              "<Figure size 432x288 with 0 Axes>"
            ]
          },
          "metadata": {
            "tags": []
          }
        }
      ]
    },
    {
      "cell_type": "code",
      "metadata": {
        "colab": {
          "base_uri": "https://localhost:8080/",
          "height": 299
        },
        "id": "pf4M4BtTZW0U",
        "outputId": "f275fcc3-30db-4f5e-989e-6eb944b1154b"
      },
      "source": [
        "epochs = range(len(get_loss))\n",
        "plt.plot(epochs, get_loss, 'r', label='Loss of Training data')\n",
        "plt.plot(epochs, validation_loss, 'b', label='Loss of Validation data')\n",
        "plt.title('Training vs validation loss')\n",
        "plt.legend(loc=0)\n",
        "plt.figure()\n",
        "plt.show()"
      ],
      "execution_count": null,
      "outputs": [
        {
          "output_type": "display_data",
          "data": {
            "image/png": "[encoded data removed]",
            "text/plain": [
              "<Figure size 432x288 with 1 Axes>"
            ]
          },
          "metadata": {
            "tags": [],
            "needs_background": "light"
          }
        },
        {
          "output_type": "display_data",
          "data": {
            "text/plain": [
              "<Figure size 432x288 with 0 Axes>"
            ]
          },
          "metadata": {
            "tags": []
          }
        }
      ]
    },
    {
      "cell_type": "code",
      "metadata": {
        "colab": {
          "base_uri": "https://localhost:8080/",
          "height": 117
        },
        "id": "gBhzaWzXZZSG",
        "outputId": "125011e1-ce12-4db9-c7ef-9f17c57e84ee"
      },
      "source": [
        "load_img(\"/content/drive/MyDrive/Colab Notebooks/Animal Popularity on Instagram/Animals_10_Dataset/elephant/OIP---LeldVL441fx5S66TGgVQAAAA.jpeg\",target_size=(100,100))"
      ],
      "execution_count": null,
      "outputs": [
        {
          "output_type": "execute_result",
          "data": {
            "image/png": "[encoded data removed]",
            "text/plain": [
              "<PIL.Image.Image image mode=RGB size=100x100 at 0x7FEE7A285DD0>"
            ]
          },
          "metadata": {
            "tags": []
          },
          "execution_count": 40
        }
      ]
    },
    {
      "cell_type": "code",
      "metadata": {
        "id": "wiLSPfXXdI45"
      },
      "source": [
        "image=load_img(\"/content/drive/MyDrive/Colab Notebooks/Animal Popularity on Instagram/Animals_10_Dataset/elephant/OIP---LeldVL441fx5S66TGgVQAAAA.jpeg\",target_size=(100,100))\n",
        "\n",
        "image=img_to_array(image) \n",
        "image=image/255.0\n",
        "prediction_image=np.array(image)\n",
        "prediction_image= np.expand_dims(image, axis=0)"
      ],
      "execution_count": null,
      "outputs": []
    },
    {
      "cell_type": "code",
      "metadata": {
        "colab": {
          "base_uri": "https://localhost:8080/"
        },
        "id": "XPXxbfNXdXtK",
        "outputId": "8a0f1b1c-2a4b-4048-f2eb-42f2e4e09fe7"
      },
      "source": [
        "reverse_mapping={ 0:Name3[0],1:Name3[1],2:Name3[2],3:Name3[3],4:Name3[4],5:Name3[5],6:Name3[6],7:Name3[7],8:Name3[8],9:Name3[9] }\n",
        "\n",
        "def mapper(value):\n",
        "    return reverse_mapping[value]\n",
        "\n",
        "def category(name):\n",
        "  x = len(name) - 1\n",
        "  for i in range(0,len(name)):\n",
        "    if name[x] == '/':\n",
        "      return name[x+1:]\n",
        "    else:\n",
        "      x = x-1\n",
        "\n",
        "  \n",
        "pred=model.predict(prediction_image)\n",
        "value=np.argmax(pred)\n",
        "\n",
        "\n",
        "name0=mapper(value)\n",
        "name_actual = category(name0)\n",
        "print(\"Prediction is {}.\".format(name_actual))"
      ],
      "execution_count": null,
      "outputs": [
        {
          "output_type": "stream",
          "text": [
            "Prediction is elephant.\n"
          ],
          "name": "stdout"
        }
      ]
    },
    {
      "cell_type": "code",
      "metadata": {
        "colab": {
          "base_uri": "https://localhost:8080/"
        },
        "id": "cElHpARddcHg",
        "outputId": "504464e8-aa75-41b6-fb17-a1506e87cfbb"
      },
      "source": [
        "test=np.array(test0)\n",
        "pred2=model.predict(test)\n",
        "\n",
        "PRED=[]\n",
        "for item in pred2:\n",
        "    value2=np.argmax(item)      \n",
        "    PRED+=[value2]\n",
        "    \n",
        "print(pred2.shape)"
      ],
      "execution_count": null,
      "outputs": [
        {
          "output_type": "stream",
          "text": [
            "(14209, 10)\n"
          ],
          "name": "stdout"
        }
      ]
    },
    {
      "cell_type": "code",
      "metadata": {
        "id": "20pqAjcLdjAw"
      },
      "source": [
        "ANS=list(labelsTest0)"
      ],
      "execution_count": null,
      "outputs": []
    },
    {
      "cell_type": "code",
      "metadata": {
        "colab": {
          "base_uri": "https://localhost:8080/"
        },
        "id": "pmxp5tsYdnq7",
        "outputId": "f80b6636-89d5-4d87-8e5d-fab5b451b388"
      },
      "source": [
        "accuracy=accuracy_score(ANS,PRED)\n",
        "print(accuracy)"
      ],
      "execution_count": null,
      "outputs": [
        {
          "output_type": "stream",
          "text": [
            "0.7664860299809979\n"
          ],
          "name": "stdout"
        }
      ]
    },
    {
      "cell_type": "code",
      "metadata": {
        "colab": {
          "base_uri": "https://localhost:8080/"
        },
        "id": "IuuwGUTKdrZL",
        "outputId": "9e56773c-6324-4587-84df-2ba3a6a39cda"
      },
      "source": [
        "final = pd.DataFrame(columns = ['Image', 'Prediction'])\n",
        "\n",
        "final['Image'] = labelsTest0\n",
        "final['Prediction'] = PRED\n",
        "\n",
        "print(final.count())\n",
        "print(\"\\n\\n\",final[final['Image']!=final['Prediction']].count())"
      ],
      "execution_count": null,
      "outputs": [
        {
          "output_type": "stream",
          "text": [
            "Image         14209\n",
            "Prediction    14209\n",
            "dtype: int64\n",
            "\n",
            "\n",
            " Image         3318\n",
            "Prediction    3318\n",
            "dtype: int64\n"
          ],
          "name": "stdout"
        }
      ]
    }
  ]
}