{
  "nbformat": 4,
  "nbformat_minor": 0,
  "metadata": {
    "colab": {
      "name": "Step 1 : Scraping.ipynb",
      "provenance": [],
      "collapsed_sections": [],
      "authorship_tag": "ABX9TyO0T80F9Tf9eUneff+7pO1y"
    },
    "kernelspec": {
      "name": "python3",
      "display_name": "Python 3"
    },
    "language_info": {
      "name": "python"
    }
  },
  "cells": [
    {
      "cell_type": "markdown",
      "metadata": {
        "id": "xrIWjxw7Voby"
      },
      "source": [
        "# **Directions:**\n",
        "\n",
        "1. Download chromeDriver from https://chromedriver.chromium.org/. Go to the given link and click on the most stable release.   Then download the win32 file for windows.\n",
        "\n",
        "2. Unzip the file and install the driver.\n",
        "3. The location of the folder where the driver is installed will be used in future.\n",
        "4. Install the packages given below through the command prompt\n",
        "  - selenium, os, wget, numpy, random, pandas, matplotlib, seaborn, label\n",
        "   if not already installed in your system."
      ]
    },
    {
      "cell_type": "markdown",
      "metadata": {
        "id": "1zO3-eIMV8yg"
      },
      "source": [
        "Imports"
      ]
    },
    {
      "cell_type": "code",
      "metadata": {
        "colab": {
          "base_uri": "https://localhost:8080/"
        },
        "id": "z5loj-KZVmrj",
        "outputId": "87232a0c-32cc-4b77-aabf-4794165b1245"
      },
      "source": [
        "!pip install selenium\n",
        "!pip install wget\n",
        "!pip install label"
      ],
      "execution_count": null,
      "outputs": [
        {
          "output_type": "stream",
          "text": [
            "Collecting selenium\n",
            "\u001b[?25l  Downloading https://files.pythonhosted.org/packages/80/d6/4294f0b4bce4de0abf13e17190289f9d0613b0a44e5dd6a7f5ca98459853/selenium-3.141.0-py2.py3-none-any.whl (904kB)\n",
            "\u001b[K     |████████████████████████████████| 911kB 5.6MB/s \n",
            "\u001b[?25hRequirement already satisfied: urllib3 in /usr/local/lib/python3.7/dist-packages (from selenium) (1.24.3)\n",
            "Installing collected packages: selenium\n",
            "Successfully installed selenium-3.141.0\n",
            "Collecting wget\n",
            "  Downloading https://files.pythonhosted.org/packages/47/6a/62e288da7bcda82b935ff0c6cfe542970f04e29c756b0e147251b2fb251f/wget-3.2.zip\n",
            "Building wheels for collected packages: wget\n",
            "  Building wheel for wget (setup.py) ... \u001b[?25l\u001b[?25hdone\n",
            "  Created wheel for wget: filename=wget-3.2-cp37-none-any.whl size=9681 sha256=fe5de67a17a296aee0c11b37e74402f68f651a7e9efc55e3fc7e4f3efd57a7c8\n",
            "  Stored in directory: /root/.cache/pip/wheels/40/15/30/7d8f7cea2902b4db79e3fea550d7d7b85ecb27ef992b618f3f\n",
            "Successfully built wget\n",
            "Installing collected packages: wget\n",
            "Successfully installed wget-3.2\n",
            "Collecting label\n",
            "  Downloading https://files.pythonhosted.org/packages/d4/bb/dc7b725edd5a85bfe762fd436784dc1beb9651c1ecf710da04bcf8f206be/label-0.1.1.tar.gz\n",
            "Building wheels for collected packages: label\n",
            "  Building wheel for label (setup.py) ... \u001b[?25l\u001b[?25hdone\n",
            "  Created wheel for label: filename=label-0.1.1-cp37-none-any.whl size=2358 sha256=4e0497b0132b93a00a27b72d9b6fe2ab5aedddeaaf0da3965d8e8654669f1e24\n",
            "  Stored in directory: /root/.cache/pip/wheels/29/47/c7/2702bb93fe6165a96f43e0072875c43e05a8790b89fb1c3af1\n",
            "Successfully built label\n",
            "Installing collected packages: label\n",
            "Successfully installed label-0.1.1\n"
          ],
          "name": "stdout"
        }
      ]
    },
    {
      "cell_type": "code",
      "metadata": {
        "id": "4mbVOeveVVAo"
      },
      "source": [
        "from selenium import webdriver\n",
        "from selenium.webdriver.common.keys import Keys\n",
        "from selenium.webdriver.support import expected_conditions as EC\n",
        "from selenium.webdriver.common.by import By\n",
        "from selenium.webdriver.support.wait import WebDriverWait\n",
        "import os\n",
        "import wget\n",
        "import numpy as np\n",
        "import random\n",
        "import pandas as pd\n",
        "import matplotlib.pyplot as plt\n",
        "import seaborn as sns\n",
        "import label\n",
        "\n",
        "import time"
      ],
      "execution_count": null,
      "outputs": []
    },
    {
      "cell_type": "markdown",
      "metadata": {
        "id": "5XNhsvU6WqUM"
      },
      "source": [
        "**Defining the Scraping** **Function** "
      ]
    },
    {
      "cell_type": "code",
      "metadata": {
        "id": "nLLJomSpVeVC"
      },
      "source": [
        "def WebScraping():\n",
        "    \n",
        "    ##Taking input for Login Parameters\n",
        "    username1=input(\"Enter your username: \")\n",
        "    password1=input(\"Enter your password: \")\n",
        "    \n",
        "    \n",
        "    ##Using the installed Chrome Driver\n",
        "    location=input(\"Enter the location of the chrome driver .exe file: \")\n",
        "    #For Exampe:- C:\\Users\\HP\\Desktop\\DS and ML\\Animal Popularity on Instagram/chromedriver.exe \"\n",
        "    \n",
        "\n",
        "    ##Take input of what hashtag to search \n",
        "    tag = input(\"Enter the hashtag you want to search on Instagram: \")\n",
        "    \n",
        "    ##Define driver and create the login Parameters\n",
        "    driver = webdriver.Chrome(location)\n",
        "    driver.get(\"https://www.instagram.com/\")\n",
        "    \n",
        "    username = WebDriverWait(driver,10).until(EC.element_to_be_clickable((By.CSS_SELECTOR,\"input[name='username']\")))\n",
        "    password = WebDriverWait(driver,10).until(EC.element_to_be_clickable((By.CSS_SELECTOR,\"input[name='password']\")))\n",
        "    username.clear()\n",
        "    password.clear()\n",
        "    \n",
        "    #Write your username and password below in between the inverted commas\n",
        "    username.send_keys(username1)\n",
        "    password.send_keys(password1)\n",
        "    log_in = WebDriverWait(driver,10).until(EC.element_to_be_clickable((By.CSS_SELECTOR,\"button[type='submit']\"))).click()\n",
        "    not_now = WebDriverWait(driver,10).until(EC.element_to_be_clickable((By.XPATH, \"//button[contains(text(), 'Not Now')]\"))).click()\n",
        "    \n",
        "    #The function hashtagged below may or may not be used.Depends on the settings of your system.\n",
        "    #notnow2=WebDriverWait(driver,10).until(EC.element_to_be_clickable((By.XPATH, \"//button[contains(text(), 'Not Now')]\"))).click()\n",
        "    \n",
        "    \n",
        "\n",
        "    ##Opening the explore tab\n",
        "    driver.get(\"https://www.instagram.com/explore/tags/{}/\".fomat(tag))\n",
        "    time.sleep(10)\n",
        "    \n",
        "\n",
        "\n",
        "    ##Choosing images to collect\n",
        "    l=[]\n",
        "    images=[]\n",
        "    init=0\n",
        "    x=100\n",
        "    for i in range(10):\n",
        "        driver.execute_script(\"window.scrollTo({},{});\".format(init,init+200))\n",
        "        \n",
        "        init+=200\n",
        "        \n",
        "        k= random.choice([0,1])\n",
        "        if k==1:\n",
        "            images = driver.find_elements_by_tag_name('img')\n",
        "            time.sleep(10)\n",
        "        list1=images\n",
        "        #print(i)\n",
        "    #c=0\n",
        "    \n",
        "    \n",
        "    ##Find the src attribute images\n",
        "    for image in list1:\n",
        "        \n",
        "        l.append(image.get_attribute('src'))\n",
        "        #print(c)\n",
        "        #c+=1\n",
        "    \n",
        "    \n",
        "    ##Defining the location for the images to be downloaded\n",
        "    path = os.getcwd()\n",
        "    path = os.path.join(path,'Extracted images explored')\n",
        "\n",
        "    ##Create the directory\n",
        "    os.mkdir(path)\n",
        "    \n",
        "    ##Download images\n",
        "    counter = 0\n",
        "    for image in l:\n",
        "        save_as = os.path.join(path,'username'+'location'+ str(counter) + '.jpg')\n",
        "        wget.download(image, save_as)\n",
        "        counter += 1\n",
        "    \n",
        "    ##This will save the images in your system"
      ],
      "execution_count": null,
      "outputs": []
    },
    {
      "cell_type": "code",
      "metadata": {
        "id": "j9xKuqNhgLR7"
      },
      "source": [
        "WebScraping()"
      ],
      "execution_count": null,
      "outputs": []
    },
    {
      "cell_type": "markdown",
      "metadata": {
        "id": "7ugN3zKoY3SD"
      },
      "source": [
        "C:/Users/HP/Desktop/DS and ML/Animal Popularity on Instagram/chromedriver.exe"
      ]
    }
  ]
}